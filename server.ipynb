{
 "cells": [
  {
   "cell_type": "code",
   "execution_count": 1,
   "metadata": {},
   "outputs": [
    {
     "name": "stderr",
     "output_type": "stream",
     "text": [
      "[15/Mar/2023:17:27:43] ENGINE Listening for SIGTERM.\n",
      "[15/Mar/2023:17:27:43] ENGINE Bus STARTING\n",
      "[15/Mar/2023:17:27:43] ENGINE Set handler for console events.\n",
      "CherryPy Checker:\n",
      "The Application mounted at '' has an empty config.\n",
      "\n",
      "[15/Mar/2023:17:27:43] ENGINE Started monitor thread 'Autoreloader'.\n",
      "[15/Mar/2023:17:27:44] ENGINE Serving on http://127.0.0.1:8080\n",
      "[15/Mar/2023:17:27:44] ENGINE Bus STARTED\n"
     ]
    },
    {
     "name": "stdout",
     "output_type": "stream",
     "text": [
      "127.0.0.1 - - [15/Mar/2023:17:28:03] \"GET /predit_one_day HTTP/1.1\" 200 1655 \"\" \"Mozilla/5.0 (Windows NT 10.0; Win64; x64) AppleWebKit/537.36 (KHTML, like Gecko) Chrome/110.0.0.0 Safari/537.36 OPR/96.0.0.0\"\n"
     ]
    }
   ],
   "source": [
    "import cherrypy\n",
    "import json\n",
    "\n",
    "class Root:\n",
    "    @cherrypy.expose\n",
    "    def index(self):\n",
    "        # read file\n",
    "        with open('I:/DM PROJECT/outputs/seven_day_predict_data_export.json', 'r') as myfile:\n",
    "            data = myfile.read()\n",
    "        # parse file\n",
    "        obj = json.loads(data)\n",
    "        # return JSON object\n",
    "        return json.dumps(obj)\n",
    "    \n",
    "    @cherrypy.expose\n",
    "    def predit_one_day(self):\n",
    "        # read file\n",
    "        with open('I:\\DM PROJECT\\outputs\\Hourly_one_day_predict_data_export.json', 'r') as myfile:\n",
    "            data = myfile.read()\n",
    "        # parse file\n",
    "        obj = json.loads(data)\n",
    "        # return JSON object\n",
    "        return json.dumps(obj)\n",
    "    \n",
    "    @cherrypy.expose\n",
    "    def predit_one_week(self):\n",
    "        # read file\n",
    "        with open('I:\\DM PROJECT\\outputs\\seven_day_predict_data_export.json', 'r') as myfile:\n",
    "            data = myfile.read()\n",
    "        # parse file\n",
    "        obj = json.loads(data)\n",
    "        # return JSON object\n",
    "        return json.dumps(obj)\n",
    "    \n",
    "    @cherrypy.expose\n",
    "    def predit_one_month(self):\n",
    "        # read file\n",
    "        with open('I:\\DM PROJECT\\outputs\\Hourly_one_month_predict_data_export.json', 'r') as myfile:\n",
    "            data = myfile.read()\n",
    "        # parse file\n",
    "        obj = json.loads(data)\n",
    "        # return JSON object\n",
    "        return json.dumps(obj)\n",
    "\n",
    "\n",
    "if __name__ == '__main__':\n",
    "    # Configure CherryPy server\n",
    "    # cherrypy.config.update({\n",
    "    #     'server.socket_host': '0.0.0.0',\n",
    "    #     'server.socket_port': 1200\n",
    "    # })\n",
    "    # Start CherryPy server\n",
    "    cherrypy.quickstart(Root())"
   ]
  }
 ],
 "metadata": {
  "kernelspec": {
   "display_name": "env",
   "language": "python",
   "name": "python3"
  },
  "language_info": {
   "codemirror_mode": {
    "name": "ipython",
    "version": 3
   },
   "file_extension": ".py",
   "mimetype": "text/x-python",
   "name": "python",
   "nbconvert_exporter": "python",
   "pygments_lexer": "ipython3",
   "version": "3.10.10"
  },
  "orig_nbformat": 4,
  "vscode": {
   "interpreter": {
    "hash": "c10192d9b005b878db44a23252c83496deb8a4bbf043adc0fbe47d88c7b744f4"
   }
  }
 },
 "nbformat": 4,
 "nbformat_minor": 2
}
