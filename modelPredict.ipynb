{
 "cells": [
  {
   "cell_type": "code",
   "execution_count": 1,
   "metadata": {},
   "outputs": [],
   "source": [
    "import os\n",
    "from tensorflow.keras.models import load_model\n",
    "import numpy as np\n",
    "import pandas as pd\n",
    "import matplotlib.pyplot as plt\n",
    "import seaborn as sns\n",
    "from sklearn.preprocessing import StandardScaler\n",
    "import plotly.graph_objects as go"
   ]
  },
  {
   "cell_type": "code",
   "execution_count": 2,
   "metadata": {},
   "outputs": [
    {
     "name": "stdout",
     "output_type": "stream",
     "text": [
      "Model: \"sequential_1\"\n",
      "_________________________________________________________________\n",
      " Layer (type)                Output Shape              Param #   \n",
      "=================================================================\n",
      " lstm_4 (LSTM)               (None, 1, 64)             200960    \n",
      "                                                                 \n",
      " dropout_4 (Dropout)         (None, 1, 64)             0         \n",
      "                                                                 \n",
      " lstm_5 (LSTM)               (None, 1, 64)             33024     \n",
      "                                                                 \n",
      " dropout_5 (Dropout)         (None, 1, 64)             0         \n",
      "                                                                 \n",
      " lstm_6 (LSTM)               (None, 1, 64)             33024     \n",
      "                                                                 \n",
      " dropout_6 (Dropout)         (None, 1, 64)             0         \n",
      "                                                                 \n",
      " lstm_7 (LSTM)               (None, 64)                33024     \n",
      "                                                                 \n",
      " dropout_7 (Dropout)         (None, 64)                0         \n",
      "                                                                 \n",
      " dense_1 (Dense)             (None, 1)                 65        \n",
      "                                                                 \n",
      "=================================================================\n",
      "Total params: 300,097\n",
      "Trainable params: 300,097\n",
      "Non-trainable params: 0\n",
      "_________________________________________________________________\n"
     ]
    }
   ],
   "source": [
    "#######################################################################################################\n",
    "#Load saved model\n",
    "#######################################################################################################\n",
    "os.chdir(r'I:\\SLIOT-backend\\modelsave')\n",
    "ts_model=load_model(os.path.join(os.getcwd(), \"lstm_model.h5\"))\n",
    "ts_model.summary()"
   ]
  },
  {
   "cell_type": "code",
   "execution_count": 3,
   "metadata": {},
   "outputs": [],
   "source": [
    "#######################################################################################################\n",
    "np.random.seed(1)\n",
    "#Load the sequence data from csv\n",
    "df = pd.read_csv('I:\\SLIOT-backend\\originaldataset\\AEP_hourly.csv')\n",
    "requests = pd.DataFrame(data=df,columns=['AEP_MW'])\n",
    "#if any missing value fill it by previous value and convert all requests into integer type\n",
    "requests.ffill(inplace=True)\n",
    "requests[\"AEP_MW\"]=requests[\"AEP_MW\"].astype(float).astype(int)\n",
    "##############################################################################################################\n",
    "dataset = df\n",
    "dataset[\"Month\"] = pd.to_datetime(df[\"Datetime\"]).dt.month\n",
    "dataset[\"Year\"] = pd.to_datetime(df[\"Datetime\"]).dt.year\n",
    "dataset[\"Date\"] = pd.to_datetime(df[\"Datetime\"]).dt.date\n",
    "dataset[\"Time\"] = pd.to_datetime(df[\"Datetime\"]).dt.time\n",
    "dataset[\"Week\"] = pd.to_datetime(df[\"Datetime\"]).dt.isocalendar().week\n",
    "dataset[\"Day\"] = pd.to_datetime(df[\"Datetime\"]).dt.day_name()\n",
    "dataset = df.set_index(\"Datetime\")\n",
    "dataset.index = pd.to_datetime(dataset.index)"
   ]
  },
  {
   "cell_type": "code",
   "execution_count": 4,
   "metadata": {},
   "outputs": [
    {
     "name": "stdout",
     "output_type": "stream",
     "text": [
      "Request Range before scaling: 9581 25695\n",
      "Request Range after scaling: [-2.28391613] [3.93437215]\n",
      "\n",
      " Shaped of Train ,Test : (120060, 1) (1213, 1)\n"
     ]
    }
   ],
   "source": [
    "#############################################################################\n",
    "#scale the data\n",
    "print(\"Request Range before scaling:\",min(requests.AEP_MW),max(requests.AEP_MW))\n",
    "scaler = StandardScaler()\n",
    "scaled_requests = scaler.fit_transform(requests)\n",
    "print(\"Request Range after scaling:\",min(scaled_requests),max(scaled_requests))\n",
    "\n",
    "#Traing data has to be sequential\n",
    "train_size = int(len(df)*0.80)\n",
    "test_size =len(df)-train_size\n",
    "\n",
    "#Number of samples to lookback for each sample\n",
    "#720 default\n",
    "lookback =720\n",
    "\n",
    "#sperate training and test data\n",
    "train_data = scaled_requests[0:train_size,:]\n",
    "\n",
    "#Add an additional week for lookback\n",
    "test_data = scaled_requests[train_size:len(df),:1]\n",
    "\n",
    "print(\"\\n Shaped of Train ,Test :\", train_data.shape ,test_data.shape)\n"
   ]
  },
  {
   "cell_type": "code",
   "execution_count": 5,
   "metadata": {},
   "outputs": [
    {
     "name": "stdout",
     "output_type": "stream",
     "text": [
      "shapes of x,y: (119339, 1, 720) (119339,)\n",
      "16/16 [==============================] - 3s 5ms/step - loss: 0.0435 - mse: 0.0435\n",
      "3730/3730 [==============================] - 12s 3ms/step\n",
      "16/16 [==============================] - 0s 3ms/step\n"
     ]
    }
   ],
   "source": [
    "#####################################################################################################\n",
    "#pepare RNN Dataset\n",
    "def create_rnn_dataset(data, lookback=1):\n",
    "  \n",
    "  data_x,data_y = [],[]\n",
    "  for i in range(len(data)- lookback -1):\n",
    "    a = data[i:(i + lookback),0]\n",
    "    data_x.append(a)\n",
    "    data_y.append(data[i + lookback,0])\n",
    "  return np.array(data_x),np.array(data_y)\n",
    "\n",
    "#create x and y for training\n",
    "x_train , y_train = create_rnn_dataset(train_data , lookback)\n",
    "\n",
    "#Reshape for use with LSTM\n",
    "x_train = np.reshape(x_train,(x_train.shape[0],1,x_train.shape[1]))\n",
    "\n",
    "print(\"shapes of x,y:\",x_train.shape , y_train.shape)\n",
    "##############################################################################\n",
    "#Preprocess\n",
    "x_test , y_test =create_rnn_dataset(test_data , lookback)\n",
    "x_test = np.reshape(x_test,(x_test.shape[0],1,x_test.shape[1]))\n",
    "ts_model.evaluate(x_test , y_test, verbose=1)\n",
    "\n",
    "#predict for the training dataset\n",
    "predict_on_train = ts_model.predict(x_train)\n",
    "#Prdeict on the test dataset\n",
    "predict_on_test = ts_model.predict(x_test)\n",
    "\n",
    "#train_mae_loss = np.mean(np.abs(predict_on_train - x_train), axis=1)"
   ]
  },
  {
   "cell_type": "code",
   "execution_count": 6,
   "metadata": {},
   "outputs": [
    {
     "name": "stdout",
     "output_type": "stream",
     "text": [
      "The accuracy of our model is 95.0%\n",
      "After training the RMSE is:0.20852138397606734\n",
      "After training the MAE is:[[1.67740784 1.68297977 1.68541748 ... 1.59499189 1.5641761  1.62061433]\n",
      " [1.68297977 1.68541748 1.72270636 ... 1.5641761  1.62061433 1.66699639]\n",
      " [1.68541748 1.72270636 1.82551758 ... 1.62061433 1.66699639 1.73156936]\n",
      " ...\n",
      " [0.90025045 0.97329556 1.12656402 ... 0.89880039 1.031475   1.07302558]\n",
      " [0.97329556 1.12656402 1.32018995 ... 1.031475   1.07302558 1.04974172]\n",
      " [1.12656402 1.32018995 1.14096964 ... 1.07302558 1.04974172 1.0062531 ]]\n"
     ]
    },
    {
     "data": {
      "image/png": "[encoded data removed]",
      "text/plain": [
       "<Figure size 640x480 with 1 Axes>"
      ]
     },
     "metadata": {},
     "output_type": "display_data"
    }
   ],
   "source": [
    "\n",
    "\n",
    "\n",
    "##########################################################################\n",
    "\n",
    "from sklearn.metrics import r2_score\n",
    "score = r2_score(y_test, predict_on_test)\n",
    "print(\"The accuracy of our model is {}%\".format(round(score, 2) *100))\n",
    "######################################################################\n",
    "from sklearn import metrics\n",
    "import os\n",
    "score = np.sqrt(metrics.mean_squared_error(y_test,predict_on_test))\n",
    "print(f'After training the RMSE is:{score}')\n",
    "#######################################################################\n",
    "# trainMAE = np.mean(np.abs(predict_on_train - x_train), axis=1)\n",
    "testMAE = np.mean(np.abs(predict_on_test - x_test), axis=1)\n",
    "print(f'After training the MAE is:{testMAE}')\n",
    "#########################################################################\n",
    "plt.hist(testMAE , bins=50)\n",
    "plt.xlabel('Test MAE loss')\n",
    "plt.ylabel('Number of samples')\n",
    "################################################################################\n",
    "\n",
    "################################################################################\n",
    "predict_on_train = scaler.inverse_transform(predict_on_train)\n",
    "predict_on_test = scaler.inverse_transform(predict_on_test)\n",
    "##############################################################################"
   ]
  }
 ],
 "metadata": {
  "kernelspec": {
   "display_name": "env",
   "language": "python",
   "name": "python3"
  },
  "language_info": {
   "codemirror_mode": {
    "name": "ipython",
    "version": 3
   },
   "file_extension": ".py",
   "mimetype": "text/x-python",
   "name": "python",
   "nbconvert_exporter": "python",
   "pygments_lexer": "ipython3",
   "version": "3.10.10 (tags/v3.10.10:aad5f6a, Feb  7 2023, 17:20:36) [MSC v.1929 64 bit (AMD64)]"
  },
  "orig_nbformat": 4,
  "vscode": {
   "interpreter": {
    "hash": "4c52251276915b8013dde8691b4e0c1035b0b6ba12cb1f198e33c236900ba2a5"
   }
  }
 },
 "nbformat": 4,
 "nbformat_minor": 2
}
