{
 "cells": [
  {
   "cell_type": "code",
   "execution_count": 24,
   "metadata": {},
   "outputs": [],
   "source": [
    "import os\n",
    "from tensorflow.keras.models import load_model\n",
    "import numpy as np\n",
    "import pandas as pd\n",
    "import matplotlib.pyplot as plt\n",
    "import seaborn as sns\n",
    "from sklearn.preprocessing import StandardScaler\n",
    "import plotly.graph_objects as go"
   ]
  },
  {
   "cell_type": "code",
   "execution_count": 25,
   "metadata": {},
   "outputs": [
    {
     "name": "stdout",
     "output_type": "stream",
     "text": [
      "Model: \"sequential_1\"\n",
      "_________________________________________________________________\n",
      " Layer (type)                Output Shape              Param #   \n",
      "=================================================================\n",
      " lstm_4 (LSTM)               (None, 1, 64)             200960    \n",
      "                                                                 \n",
      " lstm_5 (LSTM)               (None, 1, 64)             33024     \n",
      "                                                                 \n",
      " lstm_6 (LSTM)               (None, 1, 64)             33024     \n",
      "                                                                 \n",
      " lstm_7 (LSTM)               (None, 64)                33024     \n",
      "                                                                 \n",
      " dense_1 (Dense)             (None, 1)                 65        \n",
      "                                                                 \n",
      "=================================================================\n",
      "Total params: 300,097\n",
      "Trainable params: 300,097\n",
      "Non-trainable params: 0\n",
      "_________________________________________________________________\n"
     ]
    }
   ],
   "source": [
    "#######################################################################################################\n",
    "#Load saved model\n",
    "#######################################################################################################\n",
    "os.chdir(r'I:\\DM PROJECT\\modelsave')\n",
    "ts_model=load_model(os.path.join(os.getcwd(), \"lstm_anomaly_model.h5\"))\n",
    "ts_model.summary()"
   ]
  },
  {
   "cell_type": "code",
   "execution_count": 26,
   "metadata": {},
   "outputs": [],
   "source": [
    "#######################################################################################################\n",
    "np.random.seed(1)\n",
    "#Load the sequence data from csv\n",
    "df = pd.read_csv('I:\\DM PROJECT\\originaldataset\\AEP_hourly.csv')\n",
    "requests = pd.DataFrame(data=df,columns=['AEP_MW'])\n",
    "#if any missing value fill it by previous value and convert all requests into integer type\n",
    "requests.ffill(inplace=True)\n",
    "requests[\"AEP_MW\"]=requests[\"AEP_MW\"].astype(float).astype(int)\n",
    "##############################################################################################################\n",
    "dataset = df\n",
    "dataset[\"Month\"] = pd.to_datetime(df[\"Datetime\"]).dt.month\n",
    "dataset[\"Year\"] = pd.to_datetime(df[\"Datetime\"]).dt.year\n",
    "dataset[\"Date\"] = pd.to_datetime(df[\"Datetime\"]).dt.date\n",
    "dataset[\"Time\"] = pd.to_datetime(df[\"Datetime\"]).dt.time\n",
    "dataset[\"Week\"] = pd.to_datetime(df[\"Datetime\"]).dt.isocalendar().week\n",
    "dataset[\"Day\"] = pd.to_datetime(df[\"Datetime\"]).dt.day_name()\n",
    "dataset = df.set_index(\"Datetime\")\n",
    "dataset.index = pd.to_datetime(dataset.index)"
   ]
  },
  {
   "cell_type": "code",
   "execution_count": 27,
   "metadata": {},
   "outputs": [
    {
     "name": "stdout",
     "output_type": "stream",
     "text": [
      "Request Range before scaling: 9581 25695\n",
      "Request Range after scaling: [-2.28391613] [3.93437215]\n",
      "\n",
      " Shaped of Train ,Test : (121151, 1) (122, 1)\n"
     ]
    }
   ],
   "source": [
    "#############################################################################\n",
    "#scale the data\n",
    "print(\"Request Range before scaling:\",min(requests.AEP_MW),max(requests.AEP_MW))\n",
    "scaler = StandardScaler()\n",
    "scaled_requests = scaler.fit_transform(requests)\n",
    "print(\"Request Range after scaling:\",min(scaled_requests),max(scaled_requests))\n",
    "\n",
    "#Traing data has to be sequential\n",
    "train_size = int(len(df)*0.99)\n",
    "test_size =len(df)-train_size\n",
    "\n",
    "#Number of samples to lookback for each sample\n",
    "#720 default\n",
    "lookback =720\n",
    "\n",
    "#sperate training and test data\n",
    "train_data = scaled_requests[0:train_size,:]\n",
    "\n",
    "#Add an additional week for lookback\n",
    "test_data = scaled_requests[train_size:len(df),:1]\n",
    "\n",
    "print(\"\\n Shaped of Train ,Test :\", train_data.shape ,test_data.shape)\n"
   ]
  },
  {
   "cell_type": "code",
   "execution_count": 28,
   "metadata": {},
   "outputs": [
    {
     "name": "stdout",
     "output_type": "stream",
     "text": [
      "shapes of x,y: (120430, 1, 720) (120430,)\n"
     ]
    },
    {
     "ename": "IndexError",
     "evalue": "tuple index out of range",
     "output_type": "error",
     "traceback": [
      "\u001b[1;31m---------------------------------------------------------------------------\u001b[0m",
      "\u001b[1;31mIndexError\u001b[0m                                Traceback (most recent call last)",
      "Cell \u001b[1;32mIn[28], line 22\u001b[0m\n\u001b[0;32m     19\u001b[0m \u001b[39m##############################################################################\u001b[39;00m\n\u001b[0;32m     20\u001b[0m \u001b[39m#Preprocess\u001b[39;00m\n\u001b[0;32m     21\u001b[0m x_test , y_test \u001b[39m=\u001b[39mcreate_rnn_dataset(test_data , lookback)\n\u001b[1;32m---> 22\u001b[0m x_test \u001b[39m=\u001b[39m np\u001b[39m.\u001b[39mreshape(x_test,(x_test\u001b[39m.\u001b[39mshape[\u001b[39m0\u001b[39m],\u001b[39m1\u001b[39m,x_test\u001b[39m.\u001b[39;49mshape[\u001b[39m1\u001b[39;49m]))\n\u001b[0;32m     23\u001b[0m ts_model\u001b[39m.\u001b[39mevaluate(x_test , y_test, verbose\u001b[39m=\u001b[39m\u001b[39m1\u001b[39m)\n\u001b[0;32m     25\u001b[0m \u001b[39m#predict for the training dataset\u001b[39;00m\n",
      "\u001b[1;31mIndexError\u001b[0m: tuple index out of range"
     ]
    }
   ],
   "source": [
    "#####################################################################################################\n",
    "#pepare RNN Dataset\n",
    "def create_rnn_dataset(data, lookback=1):\n",
    "  \n",
    "  data_x,data_y = [],[]\n",
    "  for i in range(len(data)- lookback -1):\n",
    "    a = data[i:(i + lookback),0]\n",
    "    data_x.append(a)\n",
    "    data_y.append(data[i + lookback,0])\n",
    "  return np.array(data_x),np.array(data_y)\n",
    "\n",
    "#create x and y for training\n",
    "x_train , y_train = create_rnn_dataset(train_data , lookback)\n",
    "\n",
    "#Reshape for use with LSTM\n",
    "x_train = np.reshape(x_train,(x_train.shape[0],1,x_train.shape[1]))\n",
    "\n",
    "print(\"shapes of x,y:\",x_train.shape , y_train.shape)\n",
    "##############################################################################\n",
    "#Preprocess\n",
    "x_test , y_test =create_rnn_dataset(test_data , lookback)\n",
    "x_test = np.reshape(x_test,(x_test.shape[0],1,x_test.shape[1]))\n",
    "ts_model.evaluate(x_test , y_test, verbose=1)\n",
    "\n",
    "#predict for the training dataset\n",
    "predict_on_train = ts_model.predict(x_train)\n",
    "#Prdeict on the test dataset\n",
    "predict_on_test = ts_model.predict(x_test)\n",
    "\n",
    "#train_mae_loss = np.mean(np.abs(predict_on_train - x_train), axis=1)"
   ]
  },
  {
   "cell_type": "code",
   "execution_count": null,
   "metadata": {},
   "outputs": [
    {
     "name": "stdout",
     "output_type": "stream",
     "text": [
      "The accuracy of our model is 95.0%\n",
      "After training the RMSE is:0.2042048099920893\n",
      "After training the MAE is:[[1.64909939 1.65472258 1.65719324 ... 1.56567951 1.53459289 1.5915003 ]\n",
      " [1.65472258 1.65719324 1.69460609 ... 1.53459289 1.5915003  1.63859593]\n",
      " [1.65719324 1.69460609 1.7979831  ... 1.5915003  1.63859593 1.70347883]\n",
      " ...\n",
      " [0.86676096 0.93830592 1.09109251 ... 0.9127276  1.05654009 1.10025289]\n",
      " [0.93830592 1.09109251 1.28872568 ... 1.05654009 1.10025289 1.07608601]\n",
      " [1.09109251 1.28872568 1.10550954 ... 1.10025289 1.07608601 1.02983168]]\n"
     ]
    },
    {
     "data": {
      "image/png": "[encoded data removed]",
      "text/plain": [
       "<Figure size 640x480 with 1 Axes>"
      ]
     },
     "metadata": {},
     "output_type": "display_data"
    }
   ],
   "source": [
    "\n",
    "\n",
    "\n",
    "##########################################################################\n",
    "\n",
    "from sklearn.metrics import r2_score\n",
    "score = r2_score(y_test, predict_on_test)\n",
    "print(\"The accuracy of our model is {}%\".format(round(score, 2) *100))\n",
    "######################################################################\n",
    "from sklearn import metrics\n",
    "import os\n",
    "score = np.sqrt(metrics.mean_squared_error(y_test,predict_on_test))\n",
    "print(f'After training the RMSE is:{score}')\n",
    "#######################################################################\n",
    "# trainMAE = np.mean(np.abs(predict_on_train - x_train), axis=1)\n",
    "testMAE = np.mean(np.abs(predict_on_test - x_test), axis=1)\n",
    "print(f'After training the MAE is:{testMAE}')\n",
    "#########################################################################\n",
    "plt.hist(testMAE , bins=50)\n",
    "plt.xlabel('Test MAE loss')\n",
    "plt.ylabel('Number of samples')\n",
    "################################################################################\n",
    "\n",
    "################################################################################\n",
    "predict_on_train = scaler.inverse_transform(predict_on_train)\n",
    "predict_on_test = scaler.inverse_transform(predict_on_test)\n",
    "##############################################################################"
   ]
  },
  {
   "cell_type": "code",
   "execution_count": null,
   "metadata": {},
   "outputs": [
    {
     "name": "stdout",
     "output_type": "stream",
     "text": [
      "3730/3730 [==============================] - 11s 3ms/step\n"
     ]
    },
    {
     "ename": "MemoryError",
     "evalue": "Unable to allocate 74.6 TiB for an array with shape (119339, 119339, 720) and data type float64",
     "output_type": "error",
     "traceback": [
      "\u001b[1;31m---------------------------------------------------------------------------\u001b[0m",
      "\u001b[1;31mMemoryError\u001b[0m                               Traceback (most recent call last)",
      "Cell \u001b[1;32mIn[23], line 3\u001b[0m\n\u001b[0;32m      1\u001b[0m \u001b[39m# Mean Absolute Error loss\u001b[39;00m\n\u001b[0;32m      2\u001b[0m X_train_pred \u001b[39m=\u001b[39m ts_model\u001b[39m.\u001b[39mpredict(x_train)\n\u001b[1;32m----> 3\u001b[0m train_mae_loss \u001b[39m=\u001b[39m np\u001b[39m.\u001b[39mmean(np\u001b[39m.\u001b[39mabs(X_train_pred \u001b[39m-\u001b[39;49m x_train), axis\u001b[39m=\u001b[39m\u001b[39m1\u001b[39m)\n\u001b[0;32m      5\u001b[0m plt\u001b[39m.\u001b[39mhist(train_mae_loss, bins\u001b[39m=\u001b[39m\u001b[39m50\u001b[39m)\n\u001b[0;32m      6\u001b[0m plt\u001b[39m.\u001b[39mxlabel(\u001b[39m'\u001b[39m\u001b[39mTrain MAE loss\u001b[39m\u001b[39m'\u001b[39m)\n",
      "\u001b[1;31mMemoryError\u001b[0m: Unable to allocate 74.6 TiB for an array with shape (119339, 119339, 720) and data type float64"
     ]
    }
   ],
   "source": [
    "# Mean Absolute Error loss\n",
    "X_train_pred = ts_model.predict(x_train)\n",
    "train_mae_loss = np.mean(np.abs(X_train_pred - x_train), axis=1)\n",
    "\n",
    "plt.hist(train_mae_loss, bins=50)\n",
    "plt.xlabel('Train MAE loss')\n",
    "plt.ylabel('Number of Samples');\n",
    "\n",
    "# Set reconstruction error threshold\n",
    "threshold = np.max(train_mae_loss)\n",
    "\n",
    "print('Reconstruction error threshold:',threshold)\n",
    "     "
   ]
  }
 ],
 "metadata": {
  "kernelspec": {
   "display_name": "Python 3",
   "language": "python",
   "name": "python3"
  },
  "language_info": {
   "codemirror_mode": {
    "name": "ipython",
    "version": 3
   },
   "file_extension": ".py",
   "mimetype": "text/x-python",
   "name": "python",
   "nbconvert_exporter": "python",
   "pygments_lexer": "ipython3",
   "version": "3.10.10 (tags/v3.10.10:aad5f6a, Feb  7 2023, 17:20:36) [MSC v.1929 64 bit (AMD64)]"
  },
  "orig_nbformat": 4,
  "vscode": {
   "interpreter": {
    "hash": "40ea231ce006ed65b013ba3e9b5a48267321b4d32b910ea3a649228a606377c3"
   }
  }
 },
 "nbformat": 4,
 "nbformat_minor": 2
}
